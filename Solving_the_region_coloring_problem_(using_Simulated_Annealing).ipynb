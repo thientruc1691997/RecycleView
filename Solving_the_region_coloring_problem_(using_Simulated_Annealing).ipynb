{
  "nbformat": 4,
  "nbformat_minor": 0,
  "metadata": {
    "colab": {
      "provenance": [],
      "authorship_tag": "ABX9TyOIp3gijSpHmO3P14WNKWEC",
      "include_colab_link": true
    },
    "kernelspec": {
      "name": "python3",
      "display_name": "Python 3"
    },
    "language_info": {
      "name": "python"
    }
  },
  "cells": [
    {
      "cell_type": "markdown",
      "metadata": {
        "id": "view-in-github",
        "colab_type": "text"
      },
      "source": [
        "<a href=\"https://colab.research.google.com/github/thientruc1691997/RecycleView/blob/master/Solving_the_region_coloring_problem_(using_Simulated_Annealing).ipynb\" target=\"_parent\"><img src=\"https://colab.research.google.com/assets/colab-badge.svg\" alt=\"Open In Colab\"/></a>"
      ]
    },
    {
      "cell_type": "code",
      "execution_count": 4,
      "metadata": {
        "colab": {
          "base_uri": "https://localhost:8080/"
        },
        "id": "oRgzgaxsAb4V",
        "outputId": "b893c704-c60a-45b5-d953-759549d89383"
      },
      "outputs": [
        {
          "output_type": "stream",
          "name": "stdout",
          "text": [
            "Mark: 1\n",
            "Steve: 0\n",
            "Julia: 3\n",
            "Amanda: 1\n",
            "Allan: 2\n",
            "Michelle: 3\n",
            "Derek: 2\n",
            "Joanne: 1\n",
            "Brian: 0\n",
            "Kelly: 3\n",
            "Chris: 0\n",
            "--------------\n",
            "Best Cost: 0\n"
          ]
        }
      ],
      "source": [
        "import random\n",
        "import math\n",
        "\n",
        "class GraphColoring:\n",
        "    def __init__(self, graph, num_colors, initial_temperature, cooling_rate):\n",
        "        self.graph = graph\n",
        "        self.num_colors = num_colors\n",
        "        self.current_solution = self.generate_initial_solution()\n",
        "        self.current_cost = self.calculate_cost(self.current_solution)\n",
        "        self.best_solution = self.current_solution.copy()\n",
        "        self.best_cost = self.current_cost\n",
        "        self.temperature = initial_temperature\n",
        "        self.cooling_rate = cooling_rate\n",
        "\n",
        "    def generate_initial_solution(self):\n",
        "        # Initialize with random colors for each node\n",
        "        return [random.randint(0, self.num_colors - 1) for _ in range(len(self.graph))]\n",
        "\n",
        "    def calculate_cost(self, solution):\n",
        "        # Calculate the cost of the current solution (number of conflicts)\n",
        "        cost = 0\n",
        "        for i in range(len(self.graph)):\n",
        "            for j in range(i + 1, len(self.graph)):\n",
        "                if self.graph[i][j] and solution[i] == solution[j]:\n",
        "                    cost += 1\n",
        "        return cost\n",
        "\n",
        "    def anneal(self):\n",
        "        while self.temperature > 0.1:\n",
        "        # for _ in range(self.temperature):\n",
        "            # Generate a random neighbor solution\n",
        "            neighbor_solution = self.current_solution.copy()\n",
        "            node_to_change = random.randint(0, len(self.graph) - 1)\n",
        "            new_color = random.randint(0, self.num_colors - 1)\n",
        "            neighbor_solution[node_to_change] = new_color\n",
        "            neighbor_cost = self.calculate_cost(neighbor_solution)\n",
        "\n",
        "            # Calculate the cost difference\n",
        "            cost_difference = neighbor_cost - self.current_cost\n",
        "\n",
        "            # If the neighbor solution is better or accepted with a probability, move to it\n",
        "            if cost_difference < 0 or random.random() < math.exp(-cost_difference / self.temperature):\n",
        "                self.current_solution = neighbor_solution\n",
        "                self.current_cost = neighbor_cost\n",
        "\n",
        "            # Update the best solution if needed\n",
        "                if self.current_cost < self.best_cost:\n",
        "                    self.best_solution = self.current_solution.copy()\n",
        "                    self.best_cost = self.current_cost\n",
        "\n",
        "            # Reduce the temperature\n",
        "            self.temperature *= self.cooling_rate\n",
        "\n",
        "        return self.best_solution\n",
        "\n",
        "if __name__ == \"__main__\":\n",
        "\n",
        "    # Solving the region-coloring problem represented as an adjacency matrix (Page 191. Practices with Python)\n",
        "\n",
        "\n",
        "    graph = [\n",
        "        [0,1,1,\t0,\t0,\t0,\t0,\t0,\t0,\t0,\t0],\n",
        "        [1,0,1,\t1,\t1,\t1,\t0,\t0,\t0,\t0,\t0],\n",
        "        [1,1,0,\t1,\t0,\t0,\t1,\t0,\t1,\t0,\t0],\n",
        "        [0,1,1,\t0,\t0,\t1,\t1,\t0,\t0,\t0,\t0],\n",
        "        [0,1,0,0,\t0,\t1,\t0,\t0,\t0,\t0,\t0],\n",
        "        [0,1,0,1,\t1,\t0,\t0,\t1,\t0,\t0,\t0],\n",
        "        [0,0,1,1,\t0,\t0,\t0,\t1,\t1,\t1,\t1],\n",
        "        [0,0,0,1,\t0,\t1,\t1,\t0,\t0,\t0,\t1],\n",
        "        [0,0,1,0,\t0,\t0,\t1,\t0,\t0,\t1,\t0],\n",
        "        [0,0,0,0,\t0,\t0,\t1,\t0,\t1,\t0,\t1],\n",
        "        [0,0,0,0,\t0,\t0,\t1,\t1,\t0,\t1,\t0]]\n",
        "\n",
        "    names = [\"Mark\", \"Steve\",\"Julia\",\"Amanda\",\"Allan\",\"Michelle\",\"Derek\",\"Joanne\",\"Brian\",\n",
        "             \"Kelly\",\"Chris\"]\n",
        "\n",
        "    num_colors = 4\n",
        "    initial_temperature = 1000\n",
        "    cooling_rate = 0.95\n",
        "\n",
        "    coloring_solver = GraphColoring(graph, num_colors, initial_temperature, cooling_rate)\n",
        "    best_solutions = coloring_solver.anneal()\n",
        "    result = []\n",
        "    for i in range(min(len(names), len(best_solutions))):\n",
        "        resultTemp = {\"name\": names[i], \"best_solution\": best_solutions[i]}\n",
        "        result.append(resultTemp)\n",
        "\n",
        "    #print(\"Best solution\", best_solutions)\n",
        "    # for obj in result:\n",
        "    #     for key, value in obj.items():\n",
        "    #         print(f\"{key}: {value}\")\n",
        "    for obj in result:\n",
        "        value = obj['name'] + \": \" + str(obj[\"best_solution\"])\n",
        "        print(value)\n",
        "    print(\"--------------\")\n",
        "    print(\"Best Cost:\", coloring_solver.best_cost)\n"
      ]
    }
  ]
}